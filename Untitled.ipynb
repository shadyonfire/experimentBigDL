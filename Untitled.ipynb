{
 "cells": [
  {
   "cell_type": "markdown",
   "metadata": {},
   "source": [
    "    # Loading the modules and data"
   ]
  },
  {
   "cell_type": "code",
   "execution_count": 1,
   "metadata": {},
   "outputs": [],
   "source": [
    "import pandas as pd\n",
    "import numpy as np\n",
    "from sklearn.model_selection import train_test_split"
   ]
  },
  {
   "cell_type": "code",
   "execution_count": 2,
   "metadata": {},
   "outputs": [],
   "source": [
    "df= pd.read_csv(\"BigDL.csv\")"
   ]
  },
  {
   "cell_type": "code",
   "execution_count": 3,
   "metadata": {},
   "outputs": [
    {
     "data": {
      "text/html": [
       "<div>\n",
       "<style scoped>\n",
       "    .dataframe tbody tr th:only-of-type {\n",
       "        vertical-align: middle;\n",
       "    }\n",
       "\n",
       "    .dataframe tbody tr th {\n",
       "        vertical-align: top;\n",
       "    }\n",
       "\n",
       "    .dataframe thead th {\n",
       "        text-align: right;\n",
       "    }\n",
       "</style>\n",
       "<table border=\"1\" class=\"dataframe\">\n",
       "  <thead>\n",
       "    <tr style=\"text-align: right;\">\n",
       "      <th></th>\n",
       "      <th>serial</th>\n",
       "      <th>epoch</th>\n",
       "      <th>batchsize</th>\n",
       "      <th>filter</th>\n",
       "      <th>first_conv_kernel</th>\n",
       "      <th>second_conv_kernel</th>\n",
       "      <th>output_height</th>\n",
       "      <th>output_width</th>\n",
       "      <th>dense_layer</th>\n",
       "      <th>max_core</th>\n",
       "      <th>...</th>\n",
       "      <th>Just random string</th>\n",
       "      <th>first_conv_flops</th>\n",
       "      <th>first_pool</th>\n",
       "      <th>first_relu</th>\n",
       "      <th>second_conv_flops</th>\n",
       "      <th>second_pool</th>\n",
       "      <th>second_relu</th>\n",
       "      <th>dense_layer_1</th>\n",
       "      <th>dense_layer_2</th>\n",
       "      <th>total_flops_per_epoch</th>\n",
       "    </tr>\n",
       "  </thead>\n",
       "  <tbody>\n",
       "    <tr>\n",
       "      <th>0</th>\n",
       "      <td>1</td>\n",
       "      <td>1</td>\n",
       "      <td>2000</td>\n",
       "      <td>5</td>\n",
       "      <td>4</td>\n",
       "      <td>4</td>\n",
       "      <td>4</td>\n",
       "      <td>4</td>\n",
       "      <td>100</td>\n",
       "      <td>1</td>\n",
       "      <td>...</td>\n",
       "      <td>InstrumentationResult</td>\n",
       "      <td>163072</td>\n",
       "      <td>2304</td>\n",
       "      <td>2304</td>\n",
       "      <td>116352</td>\n",
       "      <td>576</td>\n",
       "      <td>576</td>\n",
       "      <td>13000</td>\n",
       "      <td>2020</td>\n",
       "      <td>600408000</td>\n",
       "    </tr>\n",
       "    <tr>\n",
       "      <th>1</th>\n",
       "      <td>2</td>\n",
       "      <td>1</td>\n",
       "      <td>2000</td>\n",
       "      <td>5</td>\n",
       "      <td>4</td>\n",
       "      <td>4</td>\n",
       "      <td>4</td>\n",
       "      <td>4</td>\n",
       "      <td>200</td>\n",
       "      <td>1</td>\n",
       "      <td>...</td>\n",
       "      <td>InstrumentationResult</td>\n",
       "      <td>163072</td>\n",
       "      <td>2304</td>\n",
       "      <td>2304</td>\n",
       "      <td>116352</td>\n",
       "      <td>576</td>\n",
       "      <td>576</td>\n",
       "      <td>26000</td>\n",
       "      <td>4020</td>\n",
       "      <td>630408000</td>\n",
       "    </tr>\n",
       "    <tr>\n",
       "      <th>2</th>\n",
       "      <td>3</td>\n",
       "      <td>1</td>\n",
       "      <td>2000</td>\n",
       "      <td>5</td>\n",
       "      <td>4</td>\n",
       "      <td>4</td>\n",
       "      <td>4</td>\n",
       "      <td>4</td>\n",
       "      <td>300</td>\n",
       "      <td>1</td>\n",
       "      <td>...</td>\n",
       "      <td>InstrumentationResult</td>\n",
       "      <td>163072</td>\n",
       "      <td>2304</td>\n",
       "      <td>2304</td>\n",
       "      <td>116352</td>\n",
       "      <td>576</td>\n",
       "      <td>576</td>\n",
       "      <td>39000</td>\n",
       "      <td>6020</td>\n",
       "      <td>660408000</td>\n",
       "    </tr>\n",
       "    <tr>\n",
       "      <th>3</th>\n",
       "      <td>4</td>\n",
       "      <td>1</td>\n",
       "      <td>2000</td>\n",
       "      <td>5</td>\n",
       "      <td>4</td>\n",
       "      <td>4</td>\n",
       "      <td>4</td>\n",
       "      <td>4</td>\n",
       "      <td>400</td>\n",
       "      <td>1</td>\n",
       "      <td>...</td>\n",
       "      <td>InstrumentationResult</td>\n",
       "      <td>163072</td>\n",
       "      <td>2304</td>\n",
       "      <td>2304</td>\n",
       "      <td>116352</td>\n",
       "      <td>576</td>\n",
       "      <td>576</td>\n",
       "      <td>52000</td>\n",
       "      <td>8020</td>\n",
       "      <td>690408000</td>\n",
       "    </tr>\n",
       "    <tr>\n",
       "      <th>4</th>\n",
       "      <td>5</td>\n",
       "      <td>1</td>\n",
       "      <td>2000</td>\n",
       "      <td>5</td>\n",
       "      <td>4</td>\n",
       "      <td>4</td>\n",
       "      <td>4</td>\n",
       "      <td>4</td>\n",
       "      <td>500</td>\n",
       "      <td>1</td>\n",
       "      <td>...</td>\n",
       "      <td>InstrumentationResult</td>\n",
       "      <td>163072</td>\n",
       "      <td>2304</td>\n",
       "      <td>2304</td>\n",
       "      <td>116352</td>\n",
       "      <td>576</td>\n",
       "      <td>576</td>\n",
       "      <td>65000</td>\n",
       "      <td>10020</td>\n",
       "      <td>720408000</td>\n",
       "    </tr>\n",
       "  </tbody>\n",
       "</table>\n",
       "<p>5 rows × 39 columns</p>\n",
       "</div>"
      ],
      "text/plain": [
       "   serial  epoch  batchsize  filter  first_conv_kernel  second_conv_kernel  \\\n",
       "0       1      1       2000       5                  4                   4   \n",
       "1       2      1       2000       5                  4                   4   \n",
       "2       3      1       2000       5                  4                   4   \n",
       "3       4      1       2000       5                  4                   4   \n",
       "4       5      1       2000       5                  4                   4   \n",
       "\n",
       "   output_height  output_width  dense_layer  max_core  ...  \\\n",
       "0              4             4          100         1  ...   \n",
       "1              4             4          200         1  ...   \n",
       "2              4             4          300         1  ...   \n",
       "3              4             4          400         1  ...   \n",
       "4              4             4          500         1  ...   \n",
       "\n",
       "      Just random string  first_conv_flops  first_pool  first_relu  \\\n",
       "0  InstrumentationResult            163072        2304        2304   \n",
       "1  InstrumentationResult            163072        2304        2304   \n",
       "2  InstrumentationResult            163072        2304        2304   \n",
       "3  InstrumentationResult            163072        2304        2304   \n",
       "4  InstrumentationResult            163072        2304        2304   \n",
       "\n",
       "  second_conv_flops second_pool  second_relu  dense_layer_1  dense_layer_2  \\\n",
       "0            116352         576          576          13000           2020   \n",
       "1            116352         576          576          26000           4020   \n",
       "2            116352         576          576          39000           6020   \n",
       "3            116352         576          576          52000           8020   \n",
       "4            116352         576          576          65000          10020   \n",
       "\n",
       "   total_flops_per_epoch  \n",
       "0              600408000  \n",
       "1              630408000  \n",
       "2              660408000  \n",
       "3              690408000  \n",
       "4              720408000  \n",
       "\n",
       "[5 rows x 39 columns]"
      ]
     },
     "execution_count": 3,
     "metadata": {},
     "output_type": "execute_result"
    }
   ],
   "source": [
    "df.head()"
   ]
  },
  {
   "cell_type": "markdown",
   "metadata": {},
   "source": [
    "# Fitting a simple linear regression between forward time and layer flops "
   ]
  },
  {
   "cell_type": "code",
   "execution_count": 4,
   "metadata": {},
   "outputs": [],
   "source": [
    "x_data=df[[\"batchsize\",'first_conv_flops',\"first_pool\",\"first_relu\",\"second_conv_flops\",\"second_pool\",\"second_relu\",\"dense_layer_1\",\"dense_layer_2\"]]\n",
    "#x_data=np.array(df[[\"total_flops_per_epoch\"]])\n",
    "y_data=np.array(df[[\"backwardTime\"]])\n"
   ]
  },
  {
   "cell_type": "code",
   "execution_count": 5,
   "metadata": {},
   "outputs": [],
   "source": [
    "X_train, X_test, y_train, y_test = train_test_split(x_data, y_data, test_size=0.2, random_state=42)"
   ]
  },
  {
   "cell_type": "code",
   "execution_count": 6,
   "metadata": {},
   "outputs": [],
   "source": [
    "from sklearn import linear_model\n",
    "ols = linear_model.LinearRegression()\n",
    "model = ols.fit(X_train, y_train)"
   ]
  },
  {
   "cell_type": "code",
   "execution_count": 7,
   "metadata": {},
   "outputs": [
    {
     "data": {
      "text/plain": [
       "array([[ 4.79710247e+05,  2.89932578e+02,  4.09637865e+00,\n",
       "         4.09637865e+00,  5.42029458e+01, -2.67465533e+04,\n",
       "        -2.67465533e+04,  2.12424899e+02, -9.54283811e+03]])"
      ]
     },
     "execution_count": 7,
     "metadata": {},
     "output_type": "execute_result"
    }
   ],
   "source": [
    "model.coef_"
   ]
  },
  {
   "cell_type": "code",
   "execution_count": 8,
   "metadata": {},
   "outputs": [
    {
     "data": {
      "text/plain": [
       "array([-3.79188676e+08])"
      ]
     },
     "execution_count": 8,
     "metadata": {},
     "output_type": "execute_result"
    }
   ],
   "source": [
    "model.intercept_"
   ]
  },
  {
   "cell_type": "code",
   "execution_count": 9,
   "metadata": {},
   "outputs": [
    {
     "data": {
      "text/plain": [
       "0.8132677983836615"
      ]
     },
     "execution_count": 9,
     "metadata": {},
     "output_type": "execute_result"
    }
   ],
   "source": [
    "model.score(X_test, y_test)"
   ]
  },
  {
   "cell_type": "markdown",
   "metadata": {},
   "source": [
    "# Fitting the model with polynomial regression of degree 2"
   ]
  },
  {
   "cell_type": "code",
   "execution_count": 10,
   "metadata": {},
   "outputs": [
    {
     "name": "stdout",
     "output_type": "stream",
     "text": [
      "r2score is: 0.9714886624752314\n",
      "RMSE:      0.208\n"
     ]
    }
   ],
   "source": [
    "# importing libraries for polynomial transform\n",
    "from sklearn.preprocessing import PolynomialFeatures\n",
    "from sklearn.linear_model import LinearRegression\n",
    "from sklearn.metrics import mean_squared_error, r2_score\n",
    "# for creating pipeline\n",
    "from sklearn.pipeline import Pipeline\n",
    "import pickle\n",
    "# creating pipeline and fitting it on data\n",
    "Input=[('polynomial',PolynomialFeatures(degree=2\n",
    "                                       )),('modal',LinearRegression())]\n",
    "pipe=Pipeline(Input,verbose=False)\n",
    "\n",
    "pipe.fit(X_train,y_train)\n",
    "y_pred=pipe.predict(X_test)\n",
    "pickle.dump(pipe,open(\"model.m\",\"wb\"))\n",
    "# print(list(zip(y_test,y_pred)))\n",
    "print(\"r2score is:\",r2_score(y_test,y_pred))\n",
    "print(\"RMSE:      {:.3f}\".format(mean_squared_error(y_test, y_pred,squared=False)/1e9))\n",
    "#pipe.score(X_test,y_test)"
   ]
  },
  {
   "cell_type": "code",
   "execution_count": null,
   "metadata": {},
   "outputs": [],
   "source": []
  },
  {
   "cell_type": "code",
   "execution_count": 11,
   "metadata": {},
   "outputs": [
    {
     "name": "stderr",
     "output_type": "stream",
     "text": [
      "No handles with labels found to put in legend.\n"
     ]
    },
    {
     "data": {
      "image/png": "[encoded data removed]",
      "text/plain": [
       "<Figure size 720x432 with 1 Axes>"
      ]
     },
     "metadata": {
      "needs_background": "light"
     },
     "output_type": "display_data"
    }
   ],
   "source": [
    "import matplotlib.pyplot as plt\n",
    "\n",
    "\n",
    "#plotting predictions\n",
    "plt.figure(figsize=(10,6))\n",
    "plt.scatter(range(len(y_test)),y_test,s=15)\n",
    "plt.scatter(range(len(y_pred)),y_pred,s=15)\n",
    "\n",
    "plt.legend()\n",
    "plt.show()"
   ]
  },
  {
   "cell_type": "code",
   "execution_count": null,
   "metadata": {},
   "outputs": [],
   "source": []
  },
  {
   "cell_type": "code",
   "execution_count": null,
   "metadata": {},
   "outputs": [],
   "source": []
  },
  {
   "cell_type": "code",
   "execution_count": null,
   "metadata": {},
   "outputs": [],
   "source": []
  },
  {
   "cell_type": "markdown",
   "metadata": {},
   "source": [
    "# Using 5 fold validation for the above model"
   ]
  },
  {
   "cell_type": "code",
   "execution_count": 12,
   "metadata": {},
   "outputs": [
    {
     "name": "stdout",
     "output_type": "stream",
     "text": [
      "206325001 213832675\n",
      "Fold :  1\n",
      "r2score is: 0.9714845851387512\n",
      "RMSE:      0.208\n",
      "206325001 234759564\n",
      "Fold :  2\n",
      "r2score is: 0.85066498486366\n",
      "RMSE:      0.341\n",
      "206325001 245324909\n",
      "Fold :  3\n",
      "r2score is: 0.9334028847304835\n",
      "RMSE:      0.314\n",
      "206325001 240123095\n",
      "Fold :  4\n",
      "r2score is: 0.9406190897168982\n",
      "RMSE:      0.351\n",
      "206325001 223660417\n",
      "Fold :  5\n",
      "r2score is: 0.9539618060026381\n",
      "RMSE:      0.133\n",
      "Final Metrics\n",
      "r2score is: 0.9369860542834172\n",
      "RMSE:      0.283\n"
     ]
    },
    {
     "data": {
      "image/png": "[encoded data removed]",
      "text/plain": [
       "<Figure size 720x432 with 1 Axes>"
      ]
     },
     "metadata": {
      "needs_background": "light"
     },
     "output_type": "display_data"
    }
   ],
   "source": [
    "import numpy as np\n",
    "from sklearn.model_selection import KFold\n",
    "from sklearn.preprocessing import PolynomialFeatures\n",
    "from sklearn.linear_model import LinearRegression\n",
    "from sklearn.metrics import mean_squared_error, r2_score\n",
    "# for creating pipeline\n",
    "from sklearn.pipeline import Pipeline\n",
    "\n",
    "kf = KFold(n_splits=5,shuffle=True,random_state=42)\n",
    "final_y_test=[]\n",
    "final_y_pred=[]\n",
    "for i,(train_index, test_index) in enumerate(kf.split(x_data)):\n",
    "    X_train, X_test = x_data.iloc[train_index], x_data.iloc[test_index]\n",
    "    y_train, y_test = y_data[train_index], y_data[test_index]\n",
    "    # importing libraries for polynomial transform\n",
    "\n",
    "    # creating pipeline and fitting it on data\n",
    "    Input=[('polynomial',PolynomialFeatures(degree=2)),('modal',LinearRegression())]\n",
    "    pipe=Pipeline(Input)\n",
    "\n",
    "    pipe.fit(X_train,y_train)\n",
    "    y_pred=pipe.predict(X_test)\n",
    "    \n",
    "    #checking a completely random parameter set\n",
    "    print(206325001,int(pipe.predict([[1500,244608,3456,3456,521856,1728,1728,96500,5020]])))\n",
    "    final_y_test.extend(y_test)\n",
    "    final_y_pred.extend(y_pred)\n",
    "    print('Fold : ',i+1)\n",
    "    print(\"r2score is:\",r2_score(y_test,y_pred))\n",
    "    print(\"RMSE:      {:.3f}\".format(mean_squared_error(y_test, y_pred,squared=False)/1e9))\n",
    "print('Final Metrics')\n",
    "print(\"r2score is:\",r2_score(final_y_test,final_y_pred))\n",
    "print(\"RMSE:      {:.3f}\".format(mean_squared_error(final_y_test, final_y_pred,squared=False)/1e9))\n",
    "plt.figure(figsize=(10,6))\n",
    "plt.scatter(range(len(final_y_test)),final_y_test,s=15,label=\"actual\")\n",
    "plt.scatter(range(len(final_y_pred)),final_y_pred,s=15,label=\"predicted\")\n",
    "\n",
    "plt.legend()\n",
    "plt.show()\n",
    "    "
   ]
  },
  {
   "cell_type": "markdown",
   "metadata": {},
   "source": [
    "# Fitting forward time vs backward time using linear regression"
   ]
  },
  {
   "cell_type": "code",
   "execution_count": 13,
   "metadata": {},
   "outputs": [],
   "source": [
    "X_train, X_test, y_train, y_test = train_test_split(df[[\"forwardTime\"]],df[[\"backwardTime\"]] , test_size=0.2, random_state=42)"
   ]
  },
  {
   "cell_type": "code",
   "execution_count": 14,
   "metadata": {},
   "outputs": [
    {
     "name": "stdout",
     "output_type": "stream",
     "text": [
      "score= 0.99310208414147\n",
      "coef= [[1.44870121]]\n",
      "intercent= [-1.03860783e+08]\n"
     ]
    },
    {
     "data": {
      "image/png": "[encoded data removed]",
      "text/plain": [
       "<Figure size 432x288 with 1 Axes>"
      ]
     },
     "metadata": {
      "needs_background": "light"
     },
     "output_type": "display_data"
    }
   ],
   "source": [
    "from sklearn import linear_model\n",
    "ols = linear_model.LinearRegression()\n",
    "model = ols.fit(X_train, y_train)\n",
    "print(\"score=\",model.score(X_test,y_test))\n",
    "print(\"coef=\",model.coef_)\n",
    "print(\"intercent=\",model.intercept_)\n",
    "\n",
    "y_pred=model.predict(X_test)\n",
    "plt.scatter(X_test,y_test)\n",
    "plt.plot(X_test,y_pred,c=\"#f00\")\n",
    "plt.show()\n",
    "\n"
   ]
  },
  {
   "cell_type": "code",
   "execution_count": null,
   "metadata": {},
   "outputs": [],
   "source": []
  },
  {
   "cell_type": "markdown",
   "metadata": {},
   "source": [
    "# Fitting forward time vs total time using linear regression"
   ]
  },
  {
   "cell_type": "code",
   "execution_count": 15,
   "metadata": {},
   "outputs": [],
   "source": [
    "X_train, X_test, y_train, y_test = train_test_split(df[[\"forwardTime\"]],df[[\"ComputeTime\"]] , test_size=0.2, random_state=42)"
   ]
  },
  {
   "cell_type": "code",
   "execution_count": 16,
   "metadata": {},
   "outputs": [
    {
     "name": "stdout",
     "output_type": "stream",
     "text": [
      "score= 0.9976219281875626\n",
      "coef= [[2.44878669]]\n",
      "intercent= [-1.01602092e+08]\n"
     ]
    },
    {
     "data": {
      "image/png": "[encoded data removed]",
      "text/plain": [
       "<Figure size 432x288 with 1 Axes>"
      ]
     },
     "metadata": {
      "needs_background": "light"
     },
     "output_type": "display_data"
    }
   ],
   "source": [
    "from sklearn import linear_model\n",
    "ols = linear_model.LinearRegression()\n",
    "model = ols.fit(X_train, y_train)\n",
    "print(\"score=\",model.score(X_test,y_test))\n",
    "print(\"coef=\",model.coef_)\n",
    "print(\"intercent=\",model.intercept_)\n",
    "\n",
    "y_pred=model.predict(X_test)\n",
    "plt.scatter(X_test,y_test)\n",
    "plt.plot(X_test,y_pred,c=\"#f00\")\n",
    "plt.show()\n",
    "\n"
   ]
  },
  {
   "cell_type": "code",
   "execution_count": null,
   "metadata": {},
   "outputs": [],
   "source": []
  },
  {
   "cell_type": "code",
   "execution_count": null,
   "metadata": {},
   "outputs": [],
   "source": []
  },
  {
   "cell_type": "markdown",
   "metadata": {},
   "source": [
    "# Fitting layer flops vs validation time using linear regression"
   ]
  },
  {
   "cell_type": "code",
   "execution_count": 17,
   "metadata": {},
   "outputs": [],
   "source": [
    "X_train, X_test, y_train, y_test = train_test_split(df[['first_conv_flops',\"first_pool\",\"first_relu\",\"second_conv_flops\",\"second_pool\",\"second_relu\",\"dense_layer_1\",\"dense_layer_2\"]],df[[\"dataValidationTime\"]] , test_size=0.2, random_state=42)"
   ]
  },
  {
   "cell_type": "code",
   "execution_count": 18,
   "metadata": {},
   "outputs": [
    {
     "name": "stdout",
     "output_type": "stream",
     "text": [
      "r2score is: 0.9055885706381385\n",
      "RMSE:      1.447\n"
     ]
    }
   ],
   "source": [
    "# importing libraries for polynomial transform\n",
    "from sklearn.preprocessing import PolynomialFeatures\n",
    "from sklearn.linear_model import LinearRegression\n",
    "from sklearn.metrics import mean_squared_error, r2_score\n",
    "# for creating pipeline\n",
    "from sklearn.pipeline import Pipeline\n",
    "# creating pipeline and fitting it on data\n",
    "Input=[('polynomial',PolynomialFeatures(degree=2\n",
    "                                       )),('modal',LinearRegression())]\n",
    "pipe=Pipeline(Input,verbose=False)\n",
    "\n",
    "pipe.fit(X_train,y_train)\n",
    "y_pred=pipe.predict(X_test)\n",
    "\n",
    "# print(list(zip(y_test,y_pred)))\n",
    "print(\"r2score is:\",r2_score(y_test,y_pred))\n",
    "print(\"RMSE:      {:.3f}\".format(mean_squared_error(y_test, y_pred,squared=False)/1e9))\n",
    "#pipe.score(X_test,y_test)"
   ]
  },
  {
   "cell_type": "code",
   "execution_count": 19,
   "metadata": {},
   "outputs": [
    {
     "name": "stderr",
     "output_type": "stream",
     "text": [
      "No handles with labels found to put in legend.\n"
     ]
    },
    {
     "data": {
      "image/png": "[encoded data removed]",
      "text/plain": [
       "<Figure size 720x432 with 1 Axes>"
      ]
     },
     "metadata": {
      "needs_background": "light"
     },
     "output_type": "display_data"
    }
   ],
   "source": [
    "import matplotlib.pyplot as plt\n",
    "\n",
    "\n",
    "#plotting predictions\n",
    "plt.figure(figsize=(10,6))\n",
    "plt.scatter(range(len(y_test)),y_test,s=15)\n",
    "plt.scatter(range(len(y_pred)),y_pred,s=15)\n",
    "\n",
    "plt.legend()\n",
    "plt.show()"
   ]
  },
  {
   "cell_type": "code",
   "execution_count": null,
   "metadata": {},
   "outputs": [],
   "source": []
  },
  {
   "cell_type": "code",
   "execution_count": null,
   "metadata": {},
   "outputs": [],
   "source": []
  },
  {
   "cell_type": "markdown",
   "metadata": {},
   "source": [
    "# Fitting forward time vs data validation time using linear regression"
   ]
  },
  {
   "cell_type": "code",
   "execution_count": 20,
   "metadata": {},
   "outputs": [],
   "source": [
    "X_train, X_test, y_train, y_test = train_test_split(df[[\"forwardTime\"]],df[[\"dataValidationTime\"]] , test_size=0.2, random_state=42)"
   ]
  },
  {
   "cell_type": "code",
   "execution_count": 21,
   "metadata": {},
   "outputs": [
    {
     "name": "stdout",
     "output_type": "stream",
     "text": [
      "score= 0.8950539326916334\n",
      "coef= [[5.57539381]]\n",
      "intercept= [1.28435355e+09]\n"
     ]
    },
    {
     "data": {
      "image/png": "[encoded data removed]",
      "text/plain": [
       "<Figure size 432x288 with 1 Axes>"
      ]
     },
     "metadata": {
      "needs_background": "light"
     },
     "output_type": "display_data"
    }
   ],
   "source": [
    "from sklearn import linear_model\n",
    "ols = linear_model.LinearRegression()\n",
    "model = ols.fit(X_train, y_train)\n",
    "print(\"score=\",model.score(X_test,y_test))\n",
    "print(\"coef=\",model.coef_)\n",
    "print(\"intercept=\",model.intercept_)\n",
    "\n",
    "y_pred=model.predict(X_test)\n",
    "plt.scatter(X_test,y_test)\n",
    "plt.plot(X_test,y_pred,c=\"#f00\")\n",
    "plt.show()\n"
   ]
  },
  {
   "cell_type": "code",
   "execution_count": null,
   "metadata": {},
   "outputs": [],
   "source": []
  },
  {
   "cell_type": "code",
   "execution_count": 22,
   "metadata": {},
   "outputs": [],
   "source": [
    "X_train, X_test, y_train, y_test = train_test_split(df[[\"batchsize\",\"forwardTime\"]],df[[\"dataValidationTime\"]] , test_size=0.2, random_state=42)"
   ]
  },
  {
   "cell_type": "code",
   "execution_count": 23,
   "metadata": {},
   "outputs": [
    {
     "name": "stdout",
     "output_type": "stream",
     "text": [
      "0.030806623\n",
      "0.049924679\n",
      "0.061172121\n",
      "0.090684106\n",
      "0.068920369\n",
      "0.0288081\n",
      "0.034747632\n",
      "0.047313883\n",
      "0.044350283\n",
      "0.018008879\n",
      "0.0754702\n",
      "0.095079452\n",
      "0.024739252\n",
      "0.022639143\n",
      "0.059212128\n",
      "0.014019995\n",
      "0.036117662\n",
      "0.084370591\n",
      "0.053502498\n",
      "0.099785676\n",
      "0.052794611\n",
      "0.014882549\n",
      "0.06502937\n",
      "0.025236836\n",
      "0.023770437\n",
      "0.07426311\n",
      "0.039048127\n",
      "0.042253701\n",
      "0.157234344\n",
      "0.132752189\n",
      "0.029880248\n",
      "0.038141466\n",
      "0.067316606\n",
      "0.084788627\n",
      "0.01841388\n",
      "0.08864332\n",
      "0.018661021\n",
      "0.075758406\n",
      "0.025118959\n",
      "0.034310568\n",
      "0.016192964\n",
      "0.062566418\n",
      "0.0886395\n",
      "0.060023562\n",
      "0.017602493\n",
      "0.092579834\n",
      "0.068717786\n",
      "0.057640684\n",
      "0.02539028\n",
      "0.026335819\n",
      "0.076753363\n",
      "0.022054565\n",
      "0.015019381\n",
      "0.017474634\n",
      "0.038306422\n",
      "0.028956576\n",
      "0.031428566\n",
      "0.047119104\n",
      "0.014002448\n",
      "0.030912605\n",
      "0.017448166\n",
      "0.023802352\n",
      "0.011748907\n",
      "0.147562013\n",
      "0.03809673\n",
      "0.109209145\n",
      "0.02070092\n",
      "0.058056831\n",
      "0.037365712\n",
      "0.035844285\n",
      "0.057846256\n",
      "0.017026274\n",
      "0.033330564\n",
      "0.057095788\n",
      "0.017431629\n",
      "0.259833389\n",
      "0.064948156\n",
      "0.018920497\n",
      "0.091809361\n",
      "0.034779781\n",
      "0.076919736\n",
      "0.064807494\n",
      "0.051544362\n",
      "0.067731761\n",
      "0.028658245\n",
      "0.024664637\n",
      "0.018081683\n",
      "0.034630586\n",
      "0.030899609\n",
      "0.036629728\n"
     ]
    }
   ],
   "source": [
    "X_train=np.array(X_train)\n",
    "y_train=np.array(y_train)\n",
    "for i in range(90):\n",
    "    print((int((X_train[i][0]*y_train[i])/10000)-X_train[i][1])/1e9)\n"
   ]
  },
  {
   "cell_type": "code",
   "execution_count": 25,
   "metadata": {},
   "outputs": [],
   "source": [
    "    df= pd.read_csv(\"BigDL.csv\")\n",
    "    x_data=df[['first_conv_flops',\"first_pool\",\"first_relu\",\"second_conv_flops\",\"second_pool\",\"second_relu\",\"dense_layer_1\",\"dense_layer_2\"]]\n",
    "    #x_data=np.array(df[[\"total_flops_per_epoch\"]])\n",
    "    y_data=np.divide(np.array(df[[\"backwardTime\"]]),np.array(df[[\"batchsize\"]]))\n",
    "\n"
   ]
  },
  {
   "cell_type": "code",
   "execution_count": 26,
   "metadata": {},
   "outputs": [
    {
     "name": "stdout",
     "output_type": "stream",
     "text": [
      "[Pipeline] ........ (step 1 of 2) Processing polynomial, total=   0.0s\n",
      "[Pipeline] ............. (step 2 of 2) Processing modal, total=   0.0s\n",
      "137550.00066666666 139570\n",
      "Fold :  1\n",
      "r2score is: 0.9113153658120541\n",
      "RMSE:      191602.168\n",
      "[Pipeline] ........ (step 1 of 2) Processing polynomial, total=   0.0s\n",
      "[Pipeline] ............. (step 2 of 2) Processing modal, total=   0.0s\n",
      "137550.00066666666 145233\n",
      "Fold :  2\n",
      "r2score is: 0.9317179498197349\n",
      "RMSE:      141006.566\n",
      "[Pipeline] ........ (step 1 of 2) Processing polynomial, total=   0.0s\n",
      "[Pipeline] ............. (step 2 of 2) Processing modal, total=   0.0s\n",
      "137550.00066666666 149343\n",
      "Fold :  3\n",
      "r2score is: 0.9055711393947808\n",
      "RMSE:      215740.144\n",
      "[Pipeline] ........ (step 1 of 2) Processing polynomial, total=   0.0s\n",
      "[Pipeline] ............. (step 2 of 2) Processing modal, total=   0.0s\n",
      "137550.00066666666 164560\n",
      "Fold :  4\n",
      "r2score is: 0.891439178272881\n",
      "RMSE:      265321.611\n",
      "[Pipeline] ........ (step 1 of 2) Processing polynomial, total=   0.0s\n",
      "[Pipeline] ............. (step 2 of 2) Processing modal, total=   0.0s\n",
      "137550.00066666666 148399\n",
      "Fold :  5\n",
      "r2score is: 0.9847865377166564\n",
      "RMSE:      71270.532\n",
      "Final Metrics\n",
      "r2score is: 0.9188957725850574\n",
      "RMSE:      189656.905\n"
     ]
    },
    {
     "data": {
      "image/png": "[encoded data removed]",
      "text/plain": [
       "<Figure size 720x432 with 1 Axes>"
      ]
     },
     "metadata": {
      "needs_background": "light"
     },
     "output_type": "display_data"
    }
   ],
   "source": [
    "    import numpy as np\n",
    "    from sklearn.model_selection import KFold\n",
    "    from sklearn.preprocessing import PolynomialFeatures\n",
    "    from sklearn.linear_model import LinearRegression\n",
    "    from sklearn.metrics import mean_squared_error, r2_score\n",
    "    # for creating pipeline\n",
    "    from sklearn.pipeline import Pipeline\n",
    "\n",
    "    kf = KFold(n_splits=5,shuffle=True,random_state=42)\n",
    "    final_y_test=[]\n",
    "    final_y_pred=[]\n",
    "    for i,(train_index, test_index) in enumerate(kf.split(x_data)):\n",
    "        X_train, X_test = x_data.iloc[train_index], x_data.iloc[test_index]\n",
    "        y_train, y_test = y_data[train_index], y_data[test_index]\n",
    "        # importing libraries for polynomial transform\n",
    "\n",
    "        # creating pipeline and fitting it on data\n",
    "        Input=[('polynomial',PolynomialFeatures(degree=2)),('modal',LinearRegression())]\n",
    "        pipe=Pipeline(Input,verbose=True)\n",
    "\n",
    "        pipe.fit(X_train,y_train)\n",
    "        y_pred=pipe.predict(X_test)\n",
    "        #checking a completely random parameter set\n",
    "        print(206325001/1500,int(pipe.predict([[244608,3456,3456,521856,1728,1728,96500,5020]])))\n",
    "        final_y_test.extend(y_test)\n",
    "        final_y_pred.extend(y_pred)\n",
    "        print('Fold : ',i+1)\n",
    "        print(\"r2score is:\",r2_score(y_test,y_pred))\n",
    "        print(\"RMSE:      {:.3f}\".format(mean_squared_error(y_test, y_pred,squared=False)))\n",
    "    print('Final Metrics')\n",
    "    print(\"r2score is:\",r2_score(final_y_test,final_y_pred))\n",
    "    print(\"RMSE:      {:.3f}\".format(mean_squared_error(final_y_test, final_y_pred,squared=False)))\n",
    "    plt.figure(figsize=(10,6))\n",
    "    plt.scatter(range(len(final_y_test)),final_y_test,s=15,label=\"actual\")\n",
    "    plt.scatter(range(len(final_y_pred)),final_y_pred,s=15,label=\"predicted\")\n",
    "\n",
    "    plt.legend()\n",
    "    plt.show()"
   ]
  },
  {
   "cell_type": "code",
   "execution_count": null,
   "metadata": {},
   "outputs": [],
   "source": []
  },
  {
   "cell_type": "code",
   "execution_count": null,
   "metadata": {},
   "outputs": [],
   "source": []
  },
  {
   "cell_type": "code",
   "execution_count": null,
   "metadata": {},
   "outputs": [],
   "source": []
  }
 ],
 "metadata": {
  "kernelspec": {
   "display_name": "Python 3",
   "language": "python",
   "name": "python3"
  },
  "language_info": {
   "codemirror_mode": {
    "name": "ipython",
    "version": 3
   },
   "file_extension": ".py",
   "mimetype": "text/x-python",
   "name": "python",
   "nbconvert_exporter": "python",
   "pygments_lexer": "ipython3",
   "version": "3.8.5"
  }
 },
 "nbformat": 4,
 "nbformat_minor": 4
}
